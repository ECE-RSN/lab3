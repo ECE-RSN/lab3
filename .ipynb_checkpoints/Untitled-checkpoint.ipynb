{
 "cells": [
  {
   "cell_type": "markdown",
   "id": "ab2bbec4-3670-4904-93e2-e557cd9e78c7",
   "metadata": {},
   "source": [
    "## Allan Variance Tools for Lab 3\n",
    "\n",
    "Allan variance (specifically, overlapping Allan Variance) is a great way for us to model the noise performance of our gyroscope and accelerometer to get a sense of how our ideal and measured rates will differ. \n",
    "\n",
    "- We will use Allan variance tools AllanTools from the Py Package Index (PyPI) to calculate the noise parameters of the gyro and accelerometer: \n",
    "    - PyPI info: https://pypi.org/project/AllanTools/\n",
    "    - Documentation: https://allantools.readthedocs.io/en/latest/\n",
    "    - Git repo: https://github.com/aewallin/allantools- Get the tools you will need to analyze Allan Variance with ```pip3 install AllanTools```\n",
    "\n",
    "- Revise your code (make a new .py file) to read in the bag and break the string into relevant components.\n",
    "- Use the oadev function (overlapping Allan variance) to calculate the Allan variance for gyro X, Y, Z, and accel X, Y, Z\n",
    "    - Use \"all\" for taus value\n",
    "\n",
    "\n",
    "- Calculate the three noise parameters from each of the six data sets: \n",
    "    - Bias instability (B), the value at the local minimum Allan variance\n",
    "    - Angle random walk (N), at \\tau = 1 s\n",
    "    - Rate random walk, (K) as given by the slope after the local minimum"
   ]
  },
  {
   "cell_type": "code",
   "execution_count": null,
   "id": "8026c339-2624-4298-9dba-237c3ec44bd3",
   "metadata": {},
   "outputs": [],
   "source": []
  }
 ],
 "metadata": {
  "kernelspec": {
   "display_name": "Python 3 (ipykernel)",
   "language": "python",
   "name": "python3"
  },
  "language_info": {
   "codemirror_mode": {
    "name": "ipython",
    "version": 3
   },
   "file_extension": ".py",
   "mimetype": "text/x-python",
   "name": "python",
   "nbconvert_exporter": "python",
   "pygments_lexer": "ipython3",
   "version": "3.8.10"
  }
 },
 "nbformat": 4,
 "nbformat_minor": 5
}
